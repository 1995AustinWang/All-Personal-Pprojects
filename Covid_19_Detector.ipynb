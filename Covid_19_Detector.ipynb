{
 "cells": [
  {
   "cell_type": "code",
   "execution_count": 4,
   "metadata": {
    "colab": {
     "base_uri": "https://localhost:8080/"
    },
    "id": "wuTTRXdOV1TF",
    "outputId": "a2461281-2094-4209-e0d2-1877ba82f816"
   },
   "outputs": [],
   "source": [
    "#Dataset : http://cb.lk/covid_19"
   ]
  },
  {
   "cell_type": "code",
   "execution_count": 11,
   "metadata": {
    "id": "SAIM976wWnoC"
   },
   "outputs": [],
   "source": [
    "TRAIN_PATH = \"CovidDataset/CovidDataset/Train\"\n",
    "VAL_PATH = \"CovidDataset/CovidDataset/Test\""
   ]
  },
  {
   "cell_type": "code",
   "execution_count": 12,
   "metadata": {
    "id": "lrXP-EgHXZst"
   },
   "outputs": [],
   "source": [
    "import numpy as np\n",
    "import matplotlib.pyplot as plt\n",
    "import keras\n",
    "from keras.layers import *\n",
    "from keras.models import *\n",
    "from keras.preprocessing import image"
   ]
  },
  {
   "cell_type": "code",
   "execution_count": 13,
   "metadata": {
    "id": "cCAqJqV_Xp1O"
   },
   "outputs": [],
   "source": [
    "#CNN based model in Keras\n",
    "model = Sequential()\n",
    "model.add(Conv2D(32,kernel_size=(3,3),activation='relu',input_shape=(224,224,3)))\n",
    "model.add(Conv2D(128,(3,3),activation='relu'))\n",
    "model.add(MaxPooling2D(pool_size=(2,2)))\n",
    "model.add(Dropout(0.25))\n",
    "\n",
    "model.add(Conv2D(64,(3,3),activation='relu'))\n",
    "model.add(MaxPooling2D(pool_size=(2,2)))\n",
    "model.add(Dropout(0.25))\n",
    "\n",
    "model.add(Conv2D(128,(3,3),activation='relu'))\n",
    "model.add(MaxPooling2D(pool_size=(2,2)))\n",
    "model.add(Dropout(0.25))\n",
    "\n",
    "model.add(Flatten())\n",
    "model.add(Dense(64,activation='relu'))\n",
    "model.add(Dropout(0.5))\n",
    "model.add(Dense(1,activation='sigmoid'))\n",
    "\n",
    "model.compile(loss=keras.losses.binary_crossentropy,optimizer='adam',metrics=['accuracy'])"
   ]
  },
  {
   "cell_type": "code",
   "execution_count": 14,
   "metadata": {
    "colab": {
     "base_uri": "https://localhost:8080/"
    },
    "id": "Rm7WbwaNcc9e",
    "outputId": "08a22010-0f18-4411-b484-ecbff665ebde"
   },
   "outputs": [
    {
     "name": "stdout",
     "output_type": "stream",
     "text": [
      "Model: \"sequential_1\"\n",
      "_________________________________________________________________\n",
      "Layer (type)                 Output Shape              Param #   \n",
      "=================================================================\n",
      "conv2d_4 (Conv2D)            (None, 222, 222, 32)      896       \n",
      "_________________________________________________________________\n",
      "conv2d_5 (Conv2D)            (None, 220, 220, 128)     36992     \n",
      "_________________________________________________________________\n",
      "max_pooling2d_3 (MaxPooling2 (None, 110, 110, 128)     0         \n",
      "_________________________________________________________________\n",
      "dropout_4 (Dropout)          (None, 110, 110, 128)     0         \n",
      "_________________________________________________________________\n",
      "conv2d_6 (Conv2D)            (None, 108, 108, 64)      73792     \n",
      "_________________________________________________________________\n",
      "max_pooling2d_4 (MaxPooling2 (None, 54, 54, 64)        0         \n",
      "_________________________________________________________________\n",
      "dropout_5 (Dropout)          (None, 54, 54, 64)        0         \n",
      "_________________________________________________________________\n",
      "conv2d_7 (Conv2D)            (None, 52, 52, 128)       73856     \n",
      "_________________________________________________________________\n",
      "max_pooling2d_5 (MaxPooling2 (None, 26, 26, 128)       0         \n",
      "_________________________________________________________________\n",
      "dropout_6 (Dropout)          (None, 26, 26, 128)       0         \n",
      "_________________________________________________________________\n",
      "flatten_1 (Flatten)          (None, 86528)             0         \n",
      "_________________________________________________________________\n",
      "dense_2 (Dense)              (None, 64)                5537856   \n",
      "_________________________________________________________________\n",
      "dropout_7 (Dropout)          (None, 64)                0         \n",
      "_________________________________________________________________\n",
      "dense_3 (Dense)              (None, 1)                 65        \n",
      "=================================================================\n",
      "Total params: 5,723,457\n",
      "Trainable params: 5,723,457\n",
      "Non-trainable params: 0\n",
      "_________________________________________________________________\n"
     ]
    }
   ],
   "source": [
    "model.summary()"
   ]
  },
  {
   "cell_type": "code",
   "execution_count": 15,
   "metadata": {
    "id": "ZijBnA6sc8Ag"
   },
   "outputs": [],
   "source": [
    "#Moulding train images\n",
    "train_datagen = image.ImageDataGenerator(rescale = 1./255, shear_range = 0.2,zoom_range = 0.2, horizontal_flip = True)\n",
    "\n",
    "test_dataset = image.ImageDataGenerator(rescale=1./255)"
   ]
  },
  {
   "cell_type": "code",
   "execution_count": 17,
   "metadata": {
    "colab": {
     "base_uri": "https://localhost:8080/"
    },
    "id": "v66egCmlwrlE",
    "outputId": "45413d99-b736-48b2-b70a-9192b2a6df6b"
   },
   "outputs": [
    {
     "name": "stdout",
     "output_type": "stream",
     "text": [
      "Found 224 images belonging to 2 classes.\n",
      "Found 60 images belonging to 2 classes.\n"
     ]
    }
   ],
   "source": [
    "train_generator = train_datagen.flow_from_directory(\n",
    "    'CovidDataset/CovidDataset/Train',\n",
    "    target_size = (224,224),\n",
    "    batch_size = 32,\n",
    "    class_mode = 'binary')\n",
    "validation_generator = test_dataset.flow_from_directory(\n",
    "    'CovidDataset/CovidDataset/Val',\n",
    "    target_size = (224,224),\n",
    "    batch_size = 32,\n",
    "    class_mode = 'binary')"
   ]
  },
  {
   "cell_type": "code",
   "execution_count": 18,
   "metadata": {
    "colab": {
     "base_uri": "https://localhost:8080/"
    },
    "id": "pOaYii1_xh8Q",
    "outputId": "d5fba1b7-aac2-4109-b42e-06728ac8aef1"
   },
   "outputs": [
    {
     "data": {
      "text/plain": [
       "{'Covid': 0, 'Normal': 1}"
      ]
     },
     "execution_count": 18,
     "metadata": {},
     "output_type": "execute_result"
    }
   ],
   "source": [
    "train_generator.class_indices"
   ]
  },
  {
   "cell_type": "code",
   "execution_count": 19,
   "metadata": {
    "colab": {
     "base_uri": "https://localhost:8080/"
    },
    "id": "JgOq0Fo-zZja",
    "outputId": "9b8d902c-51a1-416a-f3af-f2c41e25085d"
   },
   "outputs": [
    {
     "name": "stderr",
     "output_type": "stream",
     "text": [
      "C:\\Users\\21austinw\\AppData\\Roaming\\Python\\Python38\\site-packages\\keras\\engine\\training.py:1915: UserWarning: `Model.fit_generator` is deprecated and will be removed in a future version. Please use `Model.fit`, which supports generators.\n",
      "  warnings.warn('`Model.fit_generator` is deprecated and '\n"
     ]
    },
    {
     "name": "stdout",
     "output_type": "stream",
     "text": [
      "Epoch 1/10\n",
      "5/5 [==============================] - 77s 13s/step - loss: 1.1477 - accuracy: 0.5885 - val_loss: 0.6790 - val_accuracy: 0.5167\n",
      "Epoch 2/10\n",
      "5/5 [==============================] - 57s 12s/step - loss: 0.6764 - accuracy: 0.5135 - val_loss: 0.6772 - val_accuracy: 0.7000\n",
      "Epoch 3/10\n",
      "5/5 [==============================] - 57s 12s/step - loss: 0.5883 - accuracy: 0.7642 - val_loss: 0.4902 - val_accuracy: 0.9333\n",
      "Epoch 4/10\n",
      "5/5 [==============================] - 55s 12s/step - loss: 0.3548 - accuracy: 0.8173 - val_loss: 0.2924 - val_accuracy: 0.9167\n",
      "Epoch 5/10\n",
      "5/5 [==============================] - 56s 11s/step - loss: 0.3436 - accuracy: 0.8529 - val_loss: 0.2757 - val_accuracy: 0.9333\n",
      "Epoch 6/10\n",
      "5/5 [==============================] - 79s 15s/step - loss: 0.2270 - accuracy: 0.9006 - val_loss: 0.2055 - val_accuracy: 0.9167\n",
      "Epoch 7/10\n",
      "5/5 [==============================] - 64s 13s/step - loss: 0.2629 - accuracy: 0.9108 - val_loss: 0.2760 - val_accuracy: 0.9667\n",
      "Epoch 8/10\n",
      "5/5 [==============================] - 63s 13s/step - loss: 0.2086 - accuracy: 0.9256 - val_loss: 0.0865 - val_accuracy: 0.9833\n",
      "Epoch 9/10\n",
      "5/5 [==============================] - 75s 13s/step - loss: 0.1672 - accuracy: 0.9478 - val_loss: 0.1753 - val_accuracy: 0.9667\n",
      "Epoch 10/10\n",
      "5/5 [==============================] - 62s 13s/step - loss: 0.1591 - accuracy: 0.9400 - val_loss: 0.0886 - val_accuracy: 0.9833\n"
     ]
    }
   ],
   "source": [
    "#Training the model\n",
    "hist = model.fit_generator(\n",
    "    train_generator,\n",
    "    steps_per_epoch=5,\n",
    "    epochs = 10,\n",
    "    validation_data = validation_generator,\n",
    "    validation_steps=2\n",
    ")"
   ]
  },
  {
   "cell_type": "code",
   "execution_count": 20,
   "metadata": {
    "colab": {
     "base_uri": "https://localhost:8080/"
    },
    "id": "JzlDX75J0W4C",
    "outputId": "179fd5d8-50a7-4b8b-864c-966293f2a317"
   },
   "outputs": [
    {
     "name": "stdout",
     "output_type": "stream",
     "text": [
      "{'loss': [1.1733590364456177, 0.6727637052536011, 0.5631573796272278, 0.3312913477420807, 0.32244572043418884, 0.21284064650535583, 0.2770419418811798, 0.21227888762950897, 0.18184082210063934, 0.18659326434135437], 'accuracy': [0.59375, 0.5562499761581421, 0.7562500238418579, 0.84375, 0.875, 0.90625, 0.925000011920929, 0.918749988079071, 0.9437500238418579, 0.9437500238418579], 'val_loss': [0.6789721250534058, 0.6772452592849731, 0.4902306795120239, 0.2924056947231293, 0.2756947875022888, 0.20549799501895905, 0.2759804129600525, 0.08654802292585373, 0.175300732254982, 0.08863802254199982], 'val_accuracy': [0.5166666507720947, 0.699999988079071, 0.9333333373069763, 0.9166666865348816, 0.9333333373069763, 0.9166666865348816, 0.9666666388511658, 0.9833333492279053, 0.9666666388511658, 0.9833333492279053]}\n"
     ]
    }
   ],
   "source": [
    "#Getting summary\n",
    "summary=hist.history\n",
    "print(summary)"
   ]
  },
  {
   "cell_type": "code",
   "execution_count": 21,
   "metadata": {
    "id": "C6-CzP3Q6LqS"
   },
   "outputs": [],
   "source": [
    "model.save(\"model_covid.h5\")"
   ]
  },
  {
   "cell_type": "code",
   "execution_count": 22,
   "metadata": {
    "colab": {
     "base_uri": "https://localhost:8080/"
    },
    "id": "BdtnWZS_6jEC",
    "outputId": "40f85a6b-b24b-44f9-e7d9-e83925afdf72"
   },
   "outputs": [
    {
     "name": "stderr",
     "output_type": "stream",
     "text": [
      "C:\\Users\\21austinw\\AppData\\Roaming\\Python\\Python38\\site-packages\\keras\\engine\\training.py:1948: UserWarning: `Model.evaluate_generator` is deprecated and will be removed in a future version. Please use `Model.evaluate`, which supports generators.\n",
      "  warnings.warn('`Model.evaluate_generator` is deprecated and '\n"
     ]
    },
    {
     "data": {
      "text/plain": [
       "[0.12629057466983795, 0.9732142686843872]"
      ]
     },
     "execution_count": 22,
     "metadata": {},
     "output_type": "execute_result"
    }
   ],
   "source": [
    "model.evaluate_generator(train_generator)"
   ]
  },
  {
   "cell_type": "code",
   "execution_count": 23,
   "metadata": {
    "colab": {
     "base_uri": "https://localhost:8080/"
    },
    "id": "_SEDFKIb6kmD",
    "outputId": "bb199d62-acbe-4fb6-daea-939a9b57a8c7"
   },
   "outputs": [
    {
     "name": "stdout",
     "output_type": "stream",
     "text": [
      "[0.08863802254199982, 0.9833333492279053]\n"
     ]
    }
   ],
   "source": [
    "print(model.evaluate_generator(validation_generator))"
   ]
  },
  {
   "cell_type": "code",
   "execution_count": 24,
   "metadata": {
    "colab": {
     "base_uri": "https://localhost:8080/"
    },
    "id": "6AM_qD1l6phe",
    "outputId": "e82639e6-f8dd-4248-fd3d-c3f162c2d9da"
   },
   "outputs": [
    {
     "data": {
      "text/plain": [
       "{'Covid': 0, 'Normal': 1}"
      ]
     },
     "execution_count": 24,
     "metadata": {},
     "output_type": "execute_result"
    }
   ],
   "source": [
    "import os\n",
    "train_generator.class_indices"
   ]
  },
  {
   "cell_type": "code",
   "execution_count": 25,
   "metadata": {
    "id": "R88dJiTr-wE5"
   },
   "outputs": [],
   "source": [
    "y_actual, y_test = [],[]"
   ]
  },
  {
   "cell_type": "code",
   "execution_count": 27,
   "metadata": {
    "colab": {
     "base_uri": "https://localhost:8080/"
    },
    "id": "yqTiFLz8-xW7",
    "outputId": "4d135964-42a7-4c4f-8e75-67f6a6bd7e42"
   },
   "outputs": [
    {
     "name": "stderr",
     "output_type": "stream",
     "text": [
      "C:\\Users\\21austinw\\AppData\\Roaming\\Python\\Python38\\site-packages\\keras\\engine\\sequential.py:450: UserWarning: `model.predict_classes()` is deprecated and will be removed after 2021-01-01. Please use instead:* `np.argmax(model.predict(x), axis=-1)`,   if your model does multi-class classification   (e.g. if it uses a `softmax` last-layer activation).* `(model.predict(x) > 0.5).astype(\"int32\")`,   if your model does binary classification   (e.g. if it uses a `sigmoid` last-layer activation).\n",
      "  warnings.warn('`model.predict_classes()` is deprecated and '\n"
     ]
    }
   ],
   "source": [
    "for i in os.listdir(\"CovidDataset/CovidDataset/Val/Normal/\"):\n",
    "    img=image.load_img(\"CovidDataset/CovidDataset/Val/Normal/\"+i,target_size=(224,224))\n",
    "    img=image.img_to_array(img)\n",
    "    img=np.expand_dims(img,axis=0)\n",
    "    pred=model.predict_classes(img)\n",
    "    y_test.append(pred[0,0])\n",
    "    y_actual.append(1)"
   ]
  },
  {
   "cell_type": "code",
   "execution_count": 28,
   "metadata": {
    "colab": {
     "base_uri": "https://localhost:8080/"
    },
    "id": "sMMgvpew-z4A",
    "outputId": "b2557260-6e08-4f14-ec18-66a911373eda"
   },
   "outputs": [],
   "source": [
    "for i in os.listdir(\"CovidDataset/CovidDataset/Val/Covid/\"):\n",
    "    img=image.load_img(\"CovidDataset/CovidDataset/Val/Covid/\"+i,target_size=(224,224))\n",
    "    img=image.img_to_array(img)\n",
    "    img=np.expand_dims(img,axis=0)\n",
    "    pred=model.predict_classes(img)\n",
    "    y_test.append(pred[0,0])\n",
    "    y_actual.append(0)"
   ]
  },
  {
   "cell_type": "code",
   "execution_count": 29,
   "metadata": {
    "id": "zvg1gujh-2nM"
   },
   "outputs": [],
   "source": [
    "y_actual=np.array(y_actual)\n",
    "y_test=np.array(y_test)"
   ]
  },
  {
   "cell_type": "code",
   "execution_count": 30,
   "metadata": {
    "id": "9Z7rpKQq-4F3"
   },
   "outputs": [],
   "source": [
    "from sklearn.metrics import confusion_matrix\n",
    "import seaborn as sns\n",
    "cn=confusion_matrix(y_actual,y_test)"
   ]
  },
  {
   "cell_type": "code",
   "execution_count": 31,
   "metadata": {
    "colab": {
     "base_uri": "https://localhost:8080/",
     "height": 287
    },
    "id": "TNt7k45U-8TG",
    "outputId": "e7205db3-ef32-4ddc-8141-4eb67db7b5ac"
   },
   "outputs": [
    {
     "data": {
      "text/plain": [
       "<AxesSubplot:>"
      ]
     },
     "execution_count": 31,
     "metadata": {},
     "output_type": "execute_result"
    },
    {
     "data": {
      "image/png": "[encoded data removed]",
      "text/plain": [
       "<Figure size 432x288 with 2 Axes>"
      ]
     },
     "metadata": {
      "needs_background": "light"
     },
     "output_type": "display_data"
    }
   ],
   "source": [
    "sns.heatmap(cn,cmap=\"plasma\",annot=True) #0: Covid ; 1: Normal"
   ]
  },
  {
   "cell_type": "code",
   "execution_count": null,
   "metadata": {
    "id": "w0olUT7x_E6o"
   },
   "outputs": [],
   "source": []
  }
 ],
 "metadata": {
  "accelerator": "GPU",
  "colab": {
   "collapsed_sections": [],
   "name": "Covid-19 Detector.ipynb",
   "provenance": []
  },
  "kernelspec": {
   "display_name": "Python 3",
   "language": "python",
   "name": "python3"
  },
  "language_info": {
   "codemirror_mode": {
    "name": "ipython",
    "version": 3
   },
   "file_extension": ".py",
   "mimetype": "text/x-python",
   "name": "python",
   "nbconvert_exporter": "python",
   "pygments_lexer": "ipython3",
   "version": "3.8.8"
  }
 },
 "nbformat": 4,
 "nbformat_minor": 1
}
